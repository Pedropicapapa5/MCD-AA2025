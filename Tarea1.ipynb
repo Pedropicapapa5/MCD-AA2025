{
  "nbformat": 4,
  "nbformat_minor": 0,
  "metadata": {
    "colab": {
      "provenance": [],
      "authorship_tag": "ABX9TyOPGt5d/JE5QtuCx62rUSkq",
      "include_colab_link": true
    },
    "kernelspec": {
      "name": "python3",
      "display_name": "Python 3"
    },
    "language_info": {
      "name": "python"
    }
  },
  "cells": [
    {
      "cell_type": "markdown",
      "metadata": {
        "id": "view-in-github",
        "colab_type": "text"
      },
      "source": [
        "<a href=\"https://colab.research.google.com/github/Pedropicapapa5/MCD-AA2025/blob/main/Tarea1.ipynb\" target=\"_parent\"><img src=\"https://colab.research.google.com/assets/colab-badge.svg\" alt=\"Open In Colab\"/></a>"
      ]
    },
    {
      "cell_type": "code",
      "execution_count": null,
      "metadata": {
        "id": "KZckLhD_W4kc",
        "colab": {
          "base_uri": "https://localhost:8080/"
        },
        "outputId": "057fd518-4aae-4495-e8aa-25657e8d0151"
      },
      "outputs": [
        {
          "output_type": "stream",
          "name": "stdout",
          "text": [
            "Tarea 1\n"
          ]
        }
      ],
      "source": [
        "print('Tarea 1')"
      ]
    },
    {
      "cell_type": "code",
      "source": [
        "# Imprimir y declarar variables\n",
        "nombre = \"Alejandra\"\n",
        "edad = 25\n",
        "print(\"Hola Mexico, soy\", nombre, \"y tengo\", edad, \"años.\")"
      ],
      "metadata": {
        "colab": {
          "base_uri": "https://localhost:8080/"
        },
        "id": "adVHnAhoi-Rj",
        "outputId": "243561f0-f9f9-4659-ffd5-cabb3b114eee"
      },
      "execution_count": null,
      "outputs": [
        {
          "output_type": "stream",
          "name": "stdout",
          "text": [
            "Hola Mexico, soy Alejandra y tengo 25 años.\n"
          ]
        }
      ]
    },
    {
      "cell_type": "code",
      "source": [
        "# Operaciones matemáticas\n",
        "a = 10\n",
        "b = 3\n",
        "\n",
        "print(\"Suma:\", a + b)\n",
        "print(\"Resta:\", a - b)\n",
        "print(\"Multiplicación:\", a * b)\n",
        "print(\"División:\", a / b)\n",
        "print(\"División entera:\", a // b)\n",
        "print(\"Potencia:\", a ** b)\n"
      ],
      "metadata": {
        "colab": {
          "base_uri": "https://localhost:8080/"
        },
        "id": "VfgU4OeSn3Iu",
        "outputId": "2c8084c6-0d1f-451e-f400-b2038e113189"
      },
      "execution_count": null,
      "outputs": [
        {
          "output_type": "stream",
          "name": "stdout",
          "text": [
            "Suma: 13\n",
            "Resta: 7\n",
            "Multiplicación: 30\n",
            "División: 3.3333333333333335\n",
            "División entera: 3\n",
            "Potencia: 1000\n"
          ]
        }
      ]
    },
    {
      "cell_type": "code",
      "source": [
        "# Recorrer una lista con un for\n",
        "frutas = [\"manzana\", \"plátano\", \"uva\", \"mango\"]\n",
        "\n",
        "print(\"Lista de frutas:\")\n",
        "for fruta in frutas:\n",
        "    print(\"- \", fruta)"
      ],
      "metadata": {
        "colab": {
          "base_uri": "https://localhost:8080/"
        },
        "id": "EXCHLff3n8_0",
        "outputId": "e08d720e-2c03-4248-a290-d02e9cca2475"
      },
      "execution_count": null,
      "outputs": [
        {
          "output_type": "stream",
          "name": "stdout",
          "text": [
            "Lista de frutas:\n",
            "-  manzana\n",
            "-  plátano\n",
            "-  uva\n",
            "-  mango\n"
          ]
        }
      ]
    },
    {
      "cell_type": "code",
      "source": [
        "# Definir y usar una función\n",
        "def cuadrado(numero):\n",
        "    return numero ** 2\n",
        "\n",
        "print(\"El cuadrado de 4 es:\", cuadrado(4))\n",
        "print(\"El cuadrado de 9 es:\", cuadrado(9))"
      ],
      "metadata": {
        "colab": {
          "base_uri": "https://localhost:8080/"
        },
        "id": "a-YLV823oCmX",
        "outputId": "1eb49cd8-a826-45bc-9eaa-c03cb7510b1f"
      },
      "execution_count": null,
      "outputs": [
        {
          "output_type": "stream",
          "name": "stdout",
          "text": [
            "El cuadrado de 4 es: 16\n",
            "El cuadrado de 9 es: 81\n"
          ]
        }
      ]
    },
    {
      "cell_type": "code",
      "source": [
        "# Gráfico básico\n",
        "import matplotlib.pyplot as plt\n",
        "\n",
        "x = [1, 2, 3, 4, 5]\n",
        "y = [i**2 for i in x]  # cuadrados\n",
        "\n",
        "plt.plot(x, y, marker='o', color='purple')\n",
        "plt.title(\"Gráfico de cuadrados\")\n",
        "plt.xlabel(\"x\")\n",
        "plt.ylabel(\"x^2\")\n",
        "plt.grid(True)\n",
        "plt.show()\n"
      ],
      "metadata": {
        "colab": {
          "base_uri": "https://localhost:8080/",
          "height": 472
        },
        "id": "xPmaMlRaoKH9",
        "outputId": "0a50b68b-d65b-4186-8587-540ebd41eb7f"
      },
      "execution_count": null,
      "outputs": [
        {
          "output_type": "display_data",
          "data": {
            "text/plain": [
              "<Figure size 640x480 with 1 Axes>"
            ],
            "image/png": "[encoded data removed]"
          },
          "metadata": {}
        }
      ]
    }
  ]
}