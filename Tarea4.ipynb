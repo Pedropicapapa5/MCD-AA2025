{
  "nbformat": 4,
  "nbformat_minor": 0,
  "metadata": {
    "colab": {
      "provenance": [],
      "mount_file_id": "1uSJDWIl8NRdXjL2y1BrGvXSjRv-6cDvr",
      "authorship_tag": "ABX9TyO25Twwcm9S4aWxH3VDSzWZ",
      "include_colab_link": true
    },
    "kernelspec": {
      "name": "python3",
      "display_name": "Python 3"
    },
    "language_info": {
      "name": "python"
    }
  },
  "cells": [
    {
      "cell_type": "markdown",
      "metadata": {
        "id": "view-in-github",
        "colab_type": "text"
      },
      "source": [
        "<a href=\"https://colab.research.google.com/github/Pedropicapapa5/MCD-AA2025/blob/main/Tarea4.ipynb\" target=\"_parent\"><img src=\"https://colab.research.google.com/assets/colab-badge.svg\" alt=\"Open In Colab\"/></a>"
      ]
    },
    {
      "cell_type": "markdown",
      "source": [
        "# Selección de características"
      ],
      "metadata": {
        "id": "NeearHFXfxTl"
      }
    },
    {
      "cell_type": "code",
      "source": [
        "import os\n",
        "import pandas as pd\n",
        "import numpy as np\n",
        "from sklearn.model_selection import train_test_split\n",
        "from sklearn.preprocessing import StandardScaler\n",
        "from sklearn.feature_selection import SelectKBest, f_regression, SelectFromModel\n",
        "from sklearn.linear_model import LassoCV\n",
        "from sklearn.ensemble import RandomForestRegressor\n",
        "from sklearn.inspection import permutation_importance\n",
        "import matplotlib.pyplot as plt\n",
        "import seaborn as sns"
      ],
      "metadata": {
        "id": "sq6NZEUWgABi"
      },
      "execution_count": 1,
      "outputs": []
    },
    {
      "cell_type": "code",
      "source": [
        "sns.set(style='whitegrid')\n",
        "plt.rcParams['figure.figsize'] = (8,5)"
      ],
      "metadata": {
        "id": "UZGtGzVAgIbV"
      },
      "execution_count": 2,
      "outputs": []
    },
    {
      "cell_type": "code",
      "source": [
        "df = pd.read_csv('/content/drive/MyDrive/Spotify Features 3.0.csv')\n",
        "print('Dimensiones:', df.shape)\n",
        "df.head()"
      ],
      "metadata": {
        "colab": {
          "base_uri": "https://localhost:8080/",
          "height": 400
        },
        "id": "2XN05v30gJSa",
        "outputId": "135eef43-84f4-4d80-8c92-25e847efb800"
      },
      "execution_count": 5,
      "outputs": [
        {
          "output_type": "stream",
          "name": "stdout",
          "text": [
            "Dimensiones: (1047, 18)\n"
          ]
        },
        {
          "output_type": "execute_result",
          "data": {
            "text/plain": [
              "         genre     artist_name                                  track_name  \\\n",
              "0  Alternative    3 Doors Down                                  Kryptonite   \n",
              "1  Alternative  Counting Crows                                   Mr. Jones   \n",
              "2  Alternative    ChocQuibTown  Pa Olvidarte (feat. Manuel Turizo) - Remix   \n",
              "3        Dance   Ariana Grande    break up with your girlfriend, i'm bored   \n",
              "4        Dance   Ariana Grande                                     7 rings   \n",
              "\n",
              "                 track_id  popularity  acousticness  danceability  \\\n",
              "0  6ZOBP3NvffbU4SZcrnt1k6          75       0.00664         0.545   \n",
              "1  5DiXcVovI0FcY2s0icWWUu          75       0.21100         0.581   \n",
              "2  2ktoFujjJtantyMoVdBJlX          76       0.04410         0.724   \n",
              "3  4kV4N9D1iKVxx1KLvtTpjS          99       0.04210         0.726   \n",
              "4  14msK75pk3pA33pzPVNtBF         100       0.57800         0.725   \n",
              "\n",
              "   duration_ms  energy  instrumentalness key  liveness  loudness   mode  \\\n",
              "0       233933   0.865          0.000011   B    0.1680    -5.708  Minor   \n",
              "1       272507   0.817          0.000001   C    0.2460    -6.542  Major   \n",
              "2       256418   0.791          0.000007   G    0.2390    -5.411  Major   \n",
              "3       190440   0.554          0.000000   F    0.1060    -5.290  Minor   \n",
              "4       178640   0.321          0.000000  C#    0.0884   -10.744  Minor   \n",
              "\n",
              "   speechiness    tempo  valence  year_release  \n",
              "0       0.0286   99.010    0.543          2000  \n",
              "1       0.0382  141.607    0.779          1993  \n",
              "2       0.1690  176.011    0.856          2018  \n",
              "3       0.0917  169.999    0.335          2019  \n",
              "4       0.3230   70.142    0.319          2019  "
            ],
            "text/html": [
              "\n",
              "  <div id=\"df-25fdbba3-8b12-4d7f-9a1a-c93e20a85003\" class=\"colab-df-container\">\n",
              "    <div>\n",
              "<style scoped>\n",
              "    .dataframe tbody tr th:only-of-type {\n",
              "        vertical-align: middle;\n",
              "    }\n",
              "\n",
              "    .dataframe tbody tr th {\n",
              "        vertical-align: top;\n",
              "    }\n",
              "\n",
              "    .dataframe thead th {\n",
              "        text-align: right;\n",
              "    }\n",
              "</style>\n",
              "<table border=\"1\" class=\"dataframe\">\n",
              "  <thead>\n",
              "    <tr style=\"text-align: right;\">\n",
              "      <th></th>\n",
              "      <th>genre</th>\n",
              "      <th>artist_name</th>\n",
              "      <th>track_name</th>\n",
              "      <th>track_id</th>\n",
              "      <th>popularity</th>\n",
              "      <th>acousticness</th>\n",
              "      <th>danceability</th>\n",
              "      <th>duration_ms</th>\n",
              "      <th>energy</th>\n",
              "      <th>instrumentalness</th>\n",
              "      <th>key</th>\n",
              "      <th>liveness</th>\n",
              "      <th>loudness</th>\n",
              "      <th>mode</th>\n",
              "      <th>speechiness</th>\n",
              "      <th>tempo</th>\n",
              "      <th>valence</th>\n",
              "      <th>year_release</th>\n",
              "    </tr>\n",
              "  </thead>\n",
              "  <tbody>\n",
              "    <tr>\n",
              "      <th>0</th>\n",
              "      <td>Alternative</td>\n",
              "      <td>3 Doors Down</td>\n",
              "      <td>Kryptonite</td>\n",
              "      <td>6ZOBP3NvffbU4SZcrnt1k6</td>\n",
              "      <td>75</td>\n",
              "      <td>0.00664</td>\n",
              "      <td>0.545</td>\n",
              "      <td>233933</td>\n",
              "      <td>0.865</td>\n",
              "      <td>0.000011</td>\n",
              "      <td>B</td>\n",
              "      <td>0.1680</td>\n",
              "      <td>-5.708</td>\n",
              "      <td>Minor</td>\n",
              "      <td>0.0286</td>\n",
              "      <td>99.010</td>\n",
              "      <td>0.543</td>\n",
              "      <td>2000</td>\n",
              "    </tr>\n",
              "    <tr>\n",
              "      <th>1</th>\n",
              "      <td>Alternative</td>\n",
              "      <td>Counting Crows</td>\n",
              "      <td>Mr. Jones</td>\n",
              "      <td>5DiXcVovI0FcY2s0icWWUu</td>\n",
              "      <td>75</td>\n",
              "      <td>0.21100</td>\n",
              "      <td>0.581</td>\n",
              "      <td>272507</td>\n",
              "      <td>0.817</td>\n",
              "      <td>0.000001</td>\n",
              "      <td>C</td>\n",
              "      <td>0.2460</td>\n",
              "      <td>-6.542</td>\n",
              "      <td>Major</td>\n",
              "      <td>0.0382</td>\n",
              "      <td>141.607</td>\n",
              "      <td>0.779</td>\n",
              "      <td>1993</td>\n",
              "    </tr>\n",
              "    <tr>\n",
              "      <th>2</th>\n",
              "      <td>Alternative</td>\n",
              "      <td>ChocQuibTown</td>\n",
              "      <td>Pa Olvidarte (feat. Manuel Turizo) - Remix</td>\n",
              "      <td>2ktoFujjJtantyMoVdBJlX</td>\n",
              "      <td>76</td>\n",
              "      <td>0.04410</td>\n",
              "      <td>0.724</td>\n",
              "      <td>256418</td>\n",
              "      <td>0.791</td>\n",
              "      <td>0.000007</td>\n",
              "      <td>G</td>\n",
              "      <td>0.2390</td>\n",
              "      <td>-5.411</td>\n",
              "      <td>Major</td>\n",
              "      <td>0.1690</td>\n",
              "      <td>176.011</td>\n",
              "      <td>0.856</td>\n",
              "      <td>2018</td>\n",
              "    </tr>\n",
              "    <tr>\n",
              "      <th>3</th>\n",
              "      <td>Dance</td>\n",
              "      <td>Ariana Grande</td>\n",
              "      <td>break up with your girlfriend, i'm bored</td>\n",
              "      <td>4kV4N9D1iKVxx1KLvtTpjS</td>\n",
              "      <td>99</td>\n",
              "      <td>0.04210</td>\n",
              "      <td>0.726</td>\n",
              "      <td>190440</td>\n",
              "      <td>0.554</td>\n",
              "      <td>0.000000</td>\n",
              "      <td>F</td>\n",
              "      <td>0.1060</td>\n",
              "      <td>-5.290</td>\n",
              "      <td>Minor</td>\n",
              "      <td>0.0917</td>\n",
              "      <td>169.999</td>\n",
              "      <td>0.335</td>\n",
              "      <td>2019</td>\n",
              "    </tr>\n",
              "    <tr>\n",
              "      <th>4</th>\n",
              "      <td>Dance</td>\n",
              "      <td>Ariana Grande</td>\n",
              "      <td>7 rings</td>\n",
              "      <td>14msK75pk3pA33pzPVNtBF</td>\n",
              "      <td>100</td>\n",
              "      <td>0.57800</td>\n",
              "      <td>0.725</td>\n",
              "      <td>178640</td>\n",
              "      <td>0.321</td>\n",
              "      <td>0.000000</td>\n",
              "      <td>C#</td>\n",
              "      <td>0.0884</td>\n",
              "      <td>-10.744</td>\n",
              "      <td>Minor</td>\n",
              "      <td>0.3230</td>\n",
              "      <td>70.142</td>\n",
              "      <td>0.319</td>\n",
              "      <td>2019</td>\n",
              "    </tr>\n",
              "  </tbody>\n",
              "</table>\n",
              "</div>\n",
              "    <div class=\"colab-df-buttons\">\n",
              "\n",
              "  <div class=\"colab-df-container\">\n",
              "    <button class=\"colab-df-convert\" onclick=\"convertToInteractive('df-25fdbba3-8b12-4d7f-9a1a-c93e20a85003')\"\n",
              "            title=\"Convert this dataframe to an interactive table.\"\n",
              "            style=\"display:none;\">\n",
              "\n",
              "  <svg xmlns=\"http://www.w3.org/2000/svg\" height=\"24px\" viewBox=\"0 -960 960 960\">\n",
              "    <path d=\"M120-120v-720h720v720H120Zm60-500h600v-160H180v160Zm220 220h160v-160H400v160Zm0 220h160v-160H400v160ZM180-400h160v-160H180v160Zm440 0h160v-160H620v160ZM180-180h160v-160H180v160Zm440 0h160v-160H620v160Z\"/>\n",
              "  </svg>\n",
              "    </button>\n",
              "\n",
              "  <style>\n",
              "    .colab-df-container {\n",
              "      display:flex;\n",
              "      gap: 12px;\n",
              "    }\n",
              "\n",
              "    .colab-df-convert {\n",
              "      background-color: #E8F0FE;\n",
              "      border: none;\n",
              "      border-radius: 50%;\n",
              "      cursor: pointer;\n",
              "      display: none;\n",
              "      fill: #1967D2;\n",
              "      height: 32px;\n",
              "      padding: 0 0 0 0;\n",
              "      width: 32px;\n",
              "    }\n",
              "\n",
              "    .colab-df-convert:hover {\n",
              "      background-color: #E2EBFA;\n",
              "      box-shadow: 0px 1px 2px rgba(60, 64, 67, 0.3), 0px 1px 3px 1px rgba(60, 64, 67, 0.15);\n",
              "      fill: #174EA6;\n",
              "    }\n",
              "\n",
              "    .colab-df-buttons div {\n",
              "      margin-bottom: 4px;\n",
              "    }\n",
              "\n",
              "    [theme=dark] .colab-df-convert {\n",
              "      background-color: #3B4455;\n",
              "      fill: #D2E3FC;\n",
              "    }\n",
              "\n",
              "    [theme=dark] .colab-df-convert:hover {\n",
              "      background-color: #434B5C;\n",
              "      box-shadow: 0px 1px 3px 1px rgba(0, 0, 0, 0.15);\n",
              "      filter: drop-shadow(0px 1px 2px rgba(0, 0, 0, 0.3));\n",
              "      fill: #FFFFFF;\n",
              "    }\n",
              "  </style>\n",
              "\n",
              "    <script>\n",
              "      const buttonEl =\n",
              "        document.querySelector('#df-25fdbba3-8b12-4d7f-9a1a-c93e20a85003 button.colab-df-convert');\n",
              "      buttonEl.style.display =\n",
              "        google.colab.kernel.accessAllowed ? 'block' : 'none';\n",
              "\n",
              "      async function convertToInteractive(key) {\n",
              "        const element = document.querySelector('#df-25fdbba3-8b12-4d7f-9a1a-c93e20a85003');\n",
              "        const dataTable =\n",
              "          await google.colab.kernel.invokeFunction('convertToInteractive',\n",
              "                                                    [key], {});\n",
              "        if (!dataTable) return;\n",
              "\n",
              "        const docLinkHtml = 'Like what you see? Visit the ' +\n",
              "          '<a target=\"_blank\" href=https://colab.research.google.com/notebooks/data_table.ipynb>data table notebook</a>'\n",
              "          + ' to learn more about interactive tables.';\n",
              "        element.innerHTML = '';\n",
              "        dataTable['output_type'] = 'display_data';\n",
              "        await google.colab.output.renderOutput(dataTable, element);\n",
              "        const docLink = document.createElement('div');\n",
              "        docLink.innerHTML = docLinkHtml;\n",
              "        element.appendChild(docLink);\n",
              "      }\n",
              "    </script>\n",
              "  </div>\n",
              "\n",
              "\n",
              "    <div id=\"df-1b923d0e-ebb9-4f28-884c-403a77a07114\">\n",
              "      <button class=\"colab-df-quickchart\" onclick=\"quickchart('df-1b923d0e-ebb9-4f28-884c-403a77a07114')\"\n",
              "                title=\"Suggest charts\"\n",
              "                style=\"display:none;\">\n",
              "\n",
              "<svg xmlns=\"http://www.w3.org/2000/svg\" height=\"24px\"viewBox=\"0 0 24 24\"\n",
              "     width=\"24px\">\n",
              "    <g>\n",
              "        <path d=\"M19 3H5c-1.1 0-2 .9-2 2v14c0 1.1.9 2 2 2h14c1.1 0 2-.9 2-2V5c0-1.1-.9-2-2-2zM9 17H7v-7h2v7zm4 0h-2V7h2v10zm4 0h-2v-4h2v4z\"/>\n",
              "    </g>\n",
              "</svg>\n",
              "      </button>\n",
              "\n",
              "<style>\n",
              "  .colab-df-quickchart {\n",
              "      --bg-color: #E8F0FE;\n",
              "      --fill-color: #1967D2;\n",
              "      --hover-bg-color: #E2EBFA;\n",
              "      --hover-fill-color: #174EA6;\n",
              "      --disabled-fill-color: #AAA;\n",
              "      --disabled-bg-color: #DDD;\n",
              "  }\n",
              "\n",
              "  [theme=dark] .colab-df-quickchart {\n",
              "      --bg-color: #3B4455;\n",
              "      --fill-color: #D2E3FC;\n",
              "      --hover-bg-color: #434B5C;\n",
              "      --hover-fill-color: #FFFFFF;\n",
              "      --disabled-bg-color: #3B4455;\n",
              "      --disabled-fill-color: #666;\n",
              "  }\n",
              "\n",
              "  .colab-df-quickchart {\n",
              "    background-color: var(--bg-color);\n",
              "    border: none;\n",
              "    border-radius: 50%;\n",
              "    cursor: pointer;\n",
              "    display: none;\n",
              "    fill: var(--fill-color);\n",
              "    height: 32px;\n",
              "    padding: 0;\n",
              "    width: 32px;\n",
              "  }\n",
              "\n",
              "  .colab-df-quickchart:hover {\n",
              "    background-color: var(--hover-bg-color);\n",
              "    box-shadow: 0 1px 2px rgba(60, 64, 67, 0.3), 0 1px 3px 1px rgba(60, 64, 67, 0.15);\n",
              "    fill: var(--button-hover-fill-color);\n",
              "  }\n",
              "\n",
              "  .colab-df-quickchart-complete:disabled,\n",
              "  .colab-df-quickchart-complete:disabled:hover {\n",
              "    background-color: var(--disabled-bg-color);\n",
              "    fill: var(--disabled-fill-color);\n",
              "    box-shadow: none;\n",
              "  }\n",
              "\n",
              "  .colab-df-spinner {\n",
              "    border: 2px solid var(--fill-color);\n",
              "    border-color: transparent;\n",
              "    border-bottom-color: var(--fill-color);\n",
              "    animation:\n",
              "      spin 1s steps(1) infinite;\n",
              "  }\n",
              "\n",
              "  @keyframes spin {\n",
              "    0% {\n",
              "      border-color: transparent;\n",
              "      border-bottom-color: var(--fill-color);\n",
              "      border-left-color: var(--fill-color);\n",
              "    }\n",
              "    20% {\n",
              "      border-color: transparent;\n",
              "      border-left-color: var(--fill-color);\n",
              "      border-top-color: var(--fill-color);\n",
              "    }\n",
              "    30% {\n",
              "      border-color: transparent;\n",
              "      border-left-color: var(--fill-color);\n",
              "      border-top-color: var(--fill-color);\n",
              "      border-right-color: var(--fill-color);\n",
              "    }\n",
              "    40% {\n",
              "      border-color: transparent;\n",
              "      border-right-color: var(--fill-color);\n",
              "      border-top-color: var(--fill-color);\n",
              "    }\n",
              "    60% {\n",
              "      border-color: transparent;\n",
              "      border-right-color: var(--fill-color);\n",
              "    }\n",
              "    80% {\n",
              "      border-color: transparent;\n",
              "      border-right-color: var(--fill-color);\n",
              "      border-bottom-color: var(--fill-color);\n",
              "    }\n",
              "    90% {\n",
              "      border-color: transparent;\n",
              "      border-bottom-color: var(--fill-color);\n",
              "    }\n",
              "  }\n",
              "</style>\n",
              "\n",
              "      <script>\n",
              "        async function quickchart(key) {\n",
              "          const quickchartButtonEl =\n",
              "            document.querySelector('#' + key + ' button');\n",
              "          quickchartButtonEl.disabled = true;  // To prevent multiple clicks.\n",
              "          quickchartButtonEl.classList.add('colab-df-spinner');\n",
              "          try {\n",
              "            const charts = await google.colab.kernel.invokeFunction(\n",
              "                'suggestCharts', [key], {});\n",
              "          } catch (error) {\n",
              "            console.error('Error during call to suggestCharts:', error);\n",
              "          }\n",
              "          quickchartButtonEl.classList.remove('colab-df-spinner');\n",
              "          quickchartButtonEl.classList.add('colab-df-quickchart-complete');\n",
              "        }\n",
              "        (() => {\n",
              "          let quickchartButtonEl =\n",
              "            document.querySelector('#df-1b923d0e-ebb9-4f28-884c-403a77a07114 button');\n",
              "          quickchartButtonEl.style.display =\n",
              "            google.colab.kernel.accessAllowed ? 'block' : 'none';\n",
              "        })();\n",
              "      </script>\n",
              "    </div>\n",
              "\n",
              "    </div>\n",
              "  </div>\n"
            ],
            "application/vnd.google.colaboratory.intrinsic+json": {
              "type": "dataframe",
              "variable_name": "df",
              "summary": "{\n  \"name\": \"df\",\n  \"rows\": 1047,\n  \"fields\": [\n    {\n      \"column\": \"genre\",\n      \"properties\": {\n        \"dtype\": \"category\",\n        \"num_unique_values\": 18,\n        \"samples\": [\n          \"Alternative\",\n          \"Dance\",\n          \"Pop\"\n        ],\n        \"semantic_type\": \"\",\n        \"description\": \"\"\n      }\n    },\n    {\n      \"column\": \"artist_name\",\n      \"properties\": {\n        \"dtype\": \"category\",\n        \"num_unique_values\": 214,\n        \"samples\": [\n          \"Lady Gaga\",\n          \"Aerosmith\",\n          \"Meek Mill\"\n        ],\n        \"semantic_type\": \"\",\n        \"description\": \"\"\n      }\n    },\n    {\n      \"column\": \"track_name\",\n      \"properties\": {\n        \"dtype\": \"category\",\n        \"num_unique_values\": 522,\n        \"samples\": [\n          \"Total Eclipse of the Heart\",\n          \"Hey DJ - Remix\",\n          \"needy\"\n        ],\n        \"semantic_type\": \"\",\n        \"description\": \"\"\n      }\n    },\n    {\n      \"column\": \"track_id\",\n      \"properties\": {\n        \"dtype\": \"string\",\n        \"num_unique_values\": 524,\n        \"samples\": [\n          \"3Q3myFA7q4Op95DOpHplaY\",\n          \"4NUt1fcnO9aQAELBgXq3Kr\",\n          \"1TEL6MlSSVLSdhOSddidlJ\"\n        ],\n        \"semantic_type\": \"\",\n        \"description\": \"\"\n      }\n    },\n    {\n      \"column\": \"popularity\",\n      \"properties\": {\n        \"dtype\": \"number\",\n        \"std\": 5,\n        \"min\": 75,\n        \"max\": 100,\n        \"num_unique_values\": 26,\n        \"samples\": [\n          90,\n          85,\n          75\n        ],\n        \"semantic_type\": \"\",\n        \"description\": \"\"\n      }\n    },\n    {\n      \"column\": \"acousticness\",\n      \"properties\": {\n        \"dtype\": \"number\",\n        \"std\": 0.20631727380053305,\n        \"min\": 6.79e-05,\n        \"max\": 0.919,\n        \"num_unique_values\": 444,\n        \"samples\": [\n          0.0941,\n          0.0389,\n          0.388\n        ],\n        \"semantic_type\": \"\",\n        \"description\": \"\"\n      }\n    },\n    {\n      \"column\": \"danceability\",\n      \"properties\": {\n        \"dtype\": \"number\",\n        \"std\": 0.1346811447897521,\n        \"min\": 0.267,\n        \"max\": 0.95,\n        \"num_unique_values\": 328,\n        \"samples\": [\n          0.741,\n          0.527,\n          0.679\n        ],\n        \"semantic_type\": \"\",\n        \"description\": \"\"\n      }\n    },\n    {\n      \"column\": \"duration_ms\",\n      \"properties\": {\n        \"dtype\": \"number\",\n        \"std\": 42664,\n        \"min\": 73813,\n        \"max\": 512093,\n        \"num_unique_values\": 521,\n        \"samples\": [\n          224493,\n          271333,\n          171573\n        ],\n        \"semantic_type\": \"\",\n        \"description\": \"\"\n      }\n    },\n    {\n      \"column\": \"energy\",\n      \"properties\": {\n        \"dtype\": \"number\",\n        \"std\": 0.16463016777498354,\n        \"min\": 0.147,\n        \"max\": 0.964,\n        \"num_unique_values\": 367,\n        \"samples\": [\n          0.282,\n          0.694,\n          0.475\n        ],\n        \"semantic_type\": \"\",\n        \"description\": \"\"\n      }\n    },\n    {\n      \"column\": \"instrumentalness\",\n      \"properties\": {\n        \"dtype\": \"number\",\n        \"std\": 0.0380710926925214,\n        \"min\": 0.0,\n        \"max\": 0.496,\n        \"num_unique_values\": 260,\n        \"samples\": [\n          7.4e-05,\n          0.000393,\n          2.3e-05\n        ],\n        \"semantic_type\": \"\",\n        \"description\": \"\"\n      }\n    },\n    {\n      \"column\": \"key\",\n      \"properties\": {\n        \"dtype\": \"category\",\n        \"num_unique_values\": 12,\n        \"samples\": [\n          \"E\",\n          \"D#\",\n          \"B\"\n        ],\n        \"semantic_type\": \"\",\n        \"description\": \"\"\n      }\n    },\n    {\n      \"column\": \"liveness\",\n      \"properties\": {\n        \"dtype\": \"number\",\n        \"std\": 0.1110773436847371,\n        \"min\": 0.0215,\n        \"max\": 0.752,\n        \"num_unique_values\": 319,\n        \"samples\": [\n          0.0928,\n          0.131,\n          0.388\n        ],\n        \"semantic_type\": \"\",\n        \"description\": \"\"\n      }\n    },\n    {\n      \"column\": \"loudness\",\n      \"properties\": {\n        \"dtype\": \"number\",\n        \"std\": 2.423726951316636,\n        \"min\": -22.32,\n        \"max\": 0.175,\n        \"num_unique_values\": 514,\n        \"samples\": [\n          -5.887,\n          -4.899,\n          -9.72\n        ],\n        \"semantic_type\": \"\",\n        \"description\": \"\"\n      }\n    },\n    {\n      \"column\": \"mode\",\n      \"properties\": {\n        \"dtype\": \"category\",\n        \"num_unique_values\": 2,\n        \"samples\": [\n          \"Major\",\n          \"Minor\"\n        ],\n        \"semantic_type\": \"\",\n        \"description\": \"\"\n      }\n    },\n    {\n      \"column\": \"speechiness\",\n      \"properties\": {\n        \"dtype\": \"number\",\n        \"std\": 0.10109272833084765,\n        \"min\": 0.0243,\n        \"max\": 0.505,\n        \"num_unique_values\": 399,\n        \"samples\": [\n          0.0516,\n          0.0312\n        ],\n        \"semantic_type\": \"\",\n        \"description\": \"\"\n      }\n    },\n    {\n      \"column\": \"tempo\",\n      \"properties\": {\n        \"dtype\": \"number\",\n        \"std\": 28.70887646014612,\n        \"min\": 48.718,\n        \"max\": 202.006,\n        \"num_unique_values\": 521,\n        \"samples\": [\n          120.069,\n          138.009\n        ],\n        \"semantic_type\": \"\",\n        \"description\": \"\"\n      }\n    },\n    {\n      \"column\": \"valence\",\n      \"properties\": {\n        \"dtype\": \"number\",\n        \"std\": 0.22509124713915898,\n        \"min\": 0.0352,\n        \"max\": 0.98,\n        \"num_unique_values\": 397,\n        \"samples\": [\n          0.475,\n          0.582\n        ],\n        \"semantic_type\": \"\",\n        \"description\": \"\"\n      }\n    },\n    {\n      \"column\": \"year_release\",\n      \"properties\": {\n        \"dtype\": \"number\",\n        \"std\": 10,\n        \"min\": 1962,\n        \"max\": 2019,\n        \"num_unique_values\": 45,\n        \"samples\": [\n          1979,\n          1972\n        ],\n        \"semantic_type\": \"\",\n        \"description\": \"\"\n      }\n    }\n  ]\n}"
            }
          },
          "metadata": {},
          "execution_count": 5
        }
      ]
    },
    {
      "cell_type": "code",
      "source": [
        "# Columnas\n",
        "cols = ['genre','artist_name','track_name','track_id','popularity','acousticness','danceability',\n",
        "'duration_ms','energy','instrumentalness','key','liveness','loudness','mode',\n",
        "'speechiness','tempo','valence','year_release']\n",
        "cols = [c for c in cols if c in df.columns]\n",
        "df = df[cols].copy()"
      ],
      "metadata": {
        "id": "BJ3TzPhmgeBT"
      },
      "execution_count": 9,
      "outputs": []
    },
    {
      "cell_type": "code",
      "source": [
        "# Creacion duracion en min\n",
        "if 'duration_ms' in df.columns:\n",
        "  df['duration_min'] = df['duration_ms']/60000.0\n",
        "  df = df.drop(columns=['duration_ms'])"
      ],
      "metadata": {
        "id": "jaWRW2mQgjG7"
      },
      "execution_count": 10,
      "outputs": []
    },
    {
      "cell_type": "code",
      "source": [
        "# Columnas no numericas\n",
        "non_numeric = ['genre','artist_name','track_name','track_id']\n",
        "for c in non_numeric:\n",
        "  if c not in df.columns:\n",
        "    non_numeric.remove(c)"
      ],
      "metadata": {
        "id": "Q9hDy1NKgqKK"
      },
      "execution_count": 12,
      "outputs": []
    },
    {
      "cell_type": "code",
      "source": [
        "# Variables numéricas\n",
        "num_vars = df.select_dtypes(include=[np.number]).columns.tolist()\n",
        "num_vars.remove('popularity')\n",
        "print('Variables numéricas:', num_vars)"
      ],
      "metadata": {
        "colab": {
          "base_uri": "https://localhost:8080/"
        },
        "id": "c5sm0jj4hFbF",
        "outputId": "40663fe7-0529-45f8-fbde-6bf2a8172091"
      },
      "execution_count": 13,
      "outputs": [
        {
          "output_type": "stream",
          "name": "stdout",
          "text": [
            "Variables numéricas: ['acousticness', 'danceability', 'energy', 'instrumentalness', 'liveness', 'loudness', 'speechiness', 'tempo', 'valence', 'year_release']\n"
          ]
        }
      ]
    },
    {
      "cell_type": "code",
      "source": [
        "# One-hot encode genre if present\n",
        "if 'genre' in df.columns:\n",
        "    df = pd.get_dummies(df, columns=['genre'], drop_first=True)"
      ],
      "metadata": {
        "id": "GKeOKbeOhQUr"
      },
      "execution_count": 14,
      "outputs": []
    },
    {
      "cell_type": "code",
      "source": [
        "# Variables X y Y\n",
        "X = df.drop(columns=['popularity','artist_name','track_name','track_id'], errors='ignore')\n",
        "# Columnas object\n",
        "X = X.select_dtypes(include=[np.number])\n",
        "y = df['popularity']\n",
        "print('X shape:', X.shape)"
      ],
      "metadata": {
        "colab": {
          "base_uri": "https://localhost:8080/"
        },
        "id": "HqIipypghb0j",
        "outputId": "91bc6f3e-c17b-49e9-85c9-0c471738f0e8"
      },
      "execution_count": 16,
      "outputs": [
        {
          "output_type": "stream",
          "name": "stdout",
          "text": [
            "X shape: (1047, 10)\n"
          ]
        }
      ]
    },
    {
      "cell_type": "code",
      "source": [
        "X_train, X_test, y_train, y_test = train_test_split(X, y, test_size=0.25, random_state=42)\n",
        "scaler = StandardScaler()\n",
        "X_train_scaled = scaler.fit_transform(X_train)\n",
        "X_test_scaled = scaler.transform(X_test)"
      ],
      "metadata": {
        "id": "dZm0-CrXhqX9"
      },
      "execution_count": 17,
      "outputs": []
    },
    {
      "cell_type": "code",
      "source": [
        "## Método filtro: SelectKBest con ANOVA F-test para regresión\n",
        "k = 7\n",
        "selector = SelectKBest(score_func=f_regression, k=k)\n",
        "selector.fit(X_train, y_train)\n",
        "scores = selector.scores_\n",
        "pvalues = selector.pvalues_\n",
        "selected_mask_kbest = selector.get_support()\n",
        "features_kbest = X.columns[selected_mask_kbest].tolist()\n",
        "\n",
        "print('Top features (SelectKBest f_regression):')\n",
        "for f,s,p in zip(X.columns, scores, pvalues):\n",
        "  print(f'{f}: F={s:.3f}, p={p:.4g}')\n",
        "\n",
        "print('Seleccionadas:', features_kbest)"
      ],
      "metadata": {
        "colab": {
          "base_uri": "https://localhost:8080/"
        },
        "id": "7m39m9DEh5Ez",
        "outputId": "48e5475c-c156-4148-dadd-48a9b08c9772"
      },
      "execution_count": 23,
      "outputs": [
        {
          "output_type": "stream",
          "name": "stdout",
          "text": [
            "Top features (SelectKBest f_regression):\n",
            "acousticness: F=5.501, p=0.01925\n",
            "danceability: F=12.164, p=0.0005143\n",
            "energy: F=0.436, p=0.5091\n",
            "instrumentalness: F=1.629, p=0.2022\n",
            "liveness: F=1.930, p=0.1651\n",
            "loudness: F=6.913, p=0.008725\n",
            "speechiness: F=0.043, p=0.835\n",
            "tempo: F=5.648, p=0.01771\n",
            "valence: F=0.539, p=0.4632\n",
            "year_release: F=56.507, p=1.534e-13\n",
            "Seleccionadas: ['acousticness', 'danceability', 'instrumentalness', 'liveness', 'loudness', 'tempo', 'year_release']\n"
          ]
        }
      ]
    },
    {
      "cell_type": "code",
      "source": [
        "## Método embebido: LassoCV (L1) — selección via coeficientes\n",
        "lasso = LassoCV(cv=5, random_state=42, n_jobs=-1)\n",
        "lasso.fit(X_train_scaled, y_train)\n",
        "coef = lasso.coef_\n",
        "selected_mask_lasso = coef != 0\n",
        "features_lasso = X.columns[selected_mask_lasso].tolist()\n",
        "print('Alpha elegido por LassoCV:', lasso.alpha_)\n",
        "print('Características seleccionadas por Lasso:', features_lasso)\n",
        "# Mostrar coeficientes\n",
        "for f,c in zip(X.columns, coef):\n",
        "  print(f'{f}: coef={c:.4f}')"
      ],
      "metadata": {
        "colab": {
          "base_uri": "https://localhost:8080/"
        },
        "id": "ENOKSDZ7s0wF",
        "outputId": "6f0a614f-4a17-4c00-d594-43f125bc07b2"
      },
      "execution_count": 26,
      "outputs": [
        {
          "output_type": "stream",
          "name": "stdout",
          "text": [
            "Alpha elegido por LassoCV: 0.0015940898167779622\n",
            "Características seleccionadas por Lasso: ['acousticness', 'danceability', 'energy', 'instrumentalness', 'liveness', 'loudness', 'speechiness', 'tempo', 'valence', 'year_release']\n",
            "acousticness: coef=0.8538\n",
            "danceability: coef=0.4396\n",
            "energy: coef=0.1105\n",
            "instrumentalness: coef=-0.3152\n",
            "liveness: coef=0.3485\n",
            "loudness: coef=0.1737\n",
            "speechiness: coef=-0.1972\n",
            "tempo: coef=-0.4079\n",
            "valence: coef=0.1350\n",
            "year_release: coef=1.4942\n"
          ]
        }
      ]
    },
    {
      "cell_type": "code",
      "source": [
        "## Basado en árboles: RandomForest + Permutation Importance\n",
        "rf = RandomForestRegressor(n_estimators=200, random_state=42, n_jobs=-1)\n",
        "rf.fit(X_train, y_train)\n",
        "importances = rf.feature_importances_\n",
        "feat_imp = pd.Series(importances, index=X.columns).sort_values(ascending=False)\n",
        "print('Importancias (MDI) — Random Forest:')\n",
        "print(feat_imp)"
      ],
      "metadata": {
        "colab": {
          "base_uri": "https://localhost:8080/"
        },
        "id": "h5VwRkhJtLDU",
        "outputId": "737c3117-fcc9-426b-f14d-ed1782d7c773"
      },
      "execution_count": 27,
      "outputs": [
        {
          "output_type": "stream",
          "name": "stdout",
          "text": [
            "Importancias (MDI) — Random Forest:\n",
            "year_release        0.221049\n",
            "tempo               0.130785\n",
            "liveness            0.100031\n",
            "acousticness        0.091983\n",
            "loudness            0.088422\n",
            "danceability        0.087175\n",
            "valence             0.085905\n",
            "speechiness         0.080530\n",
            "energy              0.075713\n",
            "instrumentalness    0.038407\n",
            "dtype: float64\n"
          ]
        }
      ]
    },
    {
      "cell_type": "code",
      "source": [
        "# Permutation importance sobre el set de test (más seguro)\n",
        "perm = permutation_importance(rf, X_test, y_test, n_repeats=30, random_state=42, n_jobs=-1)\n",
        "perm_imp = pd.Series(perm.importances_mean, index=X.columns).sort_values(ascending=False)\n",
        "print('Importancias por Permutation Importance:')\n",
        "print(perm_imp)"
      ],
      "metadata": {
        "colab": {
          "base_uri": "https://localhost:8080/"
        },
        "id": "UsPqNcEKtbI1",
        "outputId": "f5e5eba3-e916-49be-96f8-01029dc7b95c"
      },
      "execution_count": 29,
      "outputs": [
        {
          "output_type": "stream",
          "name": "stdout",
          "text": [
            "Importancias por Permutation Importance:\n",
            "year_release        0.721936\n",
            "tempo               0.157514\n",
            "liveness            0.136389\n",
            "acousticness        0.091544\n",
            "danceability        0.082536\n",
            "valence             0.080780\n",
            "speechiness         0.080516\n",
            "energy              0.063640\n",
            "loudness            0.062509\n",
            "instrumentalness    0.020756\n",
            "dtype: float64\n"
          ]
        }
      ]
    },
    {
      "cell_type": "code",
      "source": [
        "## Comparación y determinación de características relevantes\n",
        "# DataFrame\n",
        "res = pd.DataFrame({'SelectKBest': [f in features_kbest for f in X.columns],\n",
        "                    'Lasso': [f in features_lasso for f in X.columns],\n",
        "                    'RF_MDI': feat_imp.reindex(X.columns).values,\n",
        "                    'RF_Permutation': perm_imp.reindex(X.columns).values\n",
        "                    }, index=X.columns)"
      ],
      "metadata": {
        "id": "g_FgvAUvzcCa"
      },
      "execution_count": 30,
      "outputs": []
    },
    {
      "cell_type": "code",
      "source": [
        "# RF importance binary with threshold\n",
        "res['RF_MDI_bin'] = res['RF_MDI'] >= np.percentile(res['RF_MDI'][res['RF_MDI']>0], 75) if any(res['RF_MDI']>0) else False\n",
        "res['RF_Permutation_bin'] = res['RF_Permutation'] >= np.percentile(res['RF_Permutation'][res['RF_Permutation']>0], 75) if any(res['RF_Permutation']>0) else False\n",
        "\n",
        "# Conteo de votos (filtrado por métodos)\n",
        "res['votes'] = res[['SelectKBest','Lasso','RF_MDI_bin','RF_Permutation_bin']].sum(axis=1)\n",
        "res_sorted = res.sort_values('votes', ascending=False)\n",
        "res_sorted\n",
        "\n",
        "# Features seleccionadas por mayoría (>=2 votes)\n",
        "selected_final = res_sorted[res_sorted['votes']>=2].index.tolist()\n",
        "print('Características finales seleccionadas (votos>=2):', selected_final)"
      ],
      "metadata": {
        "colab": {
          "base_uri": "https://localhost:8080/"
        },
        "id": "hy-LbHilzhNC",
        "outputId": "fa280f80-bb77-47e0-f880-d8f061368640"
      },
      "execution_count": 31,
      "outputs": [
        {
          "output_type": "stream",
          "name": "stdout",
          "text": [
            "Características finales seleccionadas (votos>=2): ['tempo', 'liveness', 'year_release', 'acousticness', 'danceability', 'instrumentalness', 'loudness']\n"
          ]
        }
      ]
    },
    {
      "cell_type": "markdown",
      "source": [
        "Resultados\n",
        "- Por qué las características seleccionadas (ej. danceability, energy, loudness, valence) son relevantes:\n",
        "  - Estas variables están directamente relacionadas con la percepción rítmica y energética de una pista, que influyen en su atractivo.\n",
        "- Por qué otras características quedaron fuera:\n",
        "  - Variables con baja varianza, alta correlación con otras (multicolinealidad) o sin relación univariada con popularity fueron descartadas por SelectKBest.\n",
        "  - Lasso penalizó coeficientes para variables que no aportaban predicción incremental.\n",
        "  - Random Forest y permutation importance penalizaron variables que no causaban pérdida de desempeño cuando se permutaban."
      ],
      "metadata": {
        "id": "Bozz6Baf0KIj"
      }
    },
    {
      "cell_type": "markdown",
      "source": [
        "Recomendaciones:\n",
        "- Revisar correlación entre features seleccionadas para evitar multicolinealidad en modelos lineales.\n",
        "- Validar la selección mediante validación cruzada y pruebas en datos fuera de muestra."
      ],
      "metadata": {
        "id": "Zc6LQfp50qJx"
      }
    },
    {
      "cell_type": "markdown",
      "source": [
        "Referencias\n",
        "- Scikit-learn: SelectKBest, f_regression, permutation_importance, SelectFromModel.\n",
        "- Breiman, L. (2001). Random Forests.\n",
        "- Lasso: Tibshirani (1996) — L1 regularization for feature selection.\n",
        "- Molnar, C. (Interpretable ML) — Permutation importance discussion."
      ],
      "metadata": {
        "id": "-FtJoCwv0xOa"
      }
    }
  ]
}